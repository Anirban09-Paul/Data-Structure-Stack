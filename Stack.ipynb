{
 "cells": [
  {
   "cell_type": "markdown",
   "id": "cd9f3461",
   "metadata": {},
   "source": [
    "# Create Stack Class\n"
   ]
  },
  {
   "cell_type": "code",
   "execution_count": 23,
   "id": "0fe8e54e",
   "metadata": {},
   "outputs": [],
   "source": [
    "from collections import deque"
   ]
  },
  {
   "cell_type": "code",
   "execution_count": 26,
   "id": "4299db9e",
   "metadata": {},
   "outputs": [],
   "source": [
    "class Stack:\n",
    "    def __init__(self):\n",
    "        self.Stack=deque()\n",
    "    def push(self,val):\n",
    "        self.Stack.append(val)\n",
    "    def pop(self):\n",
    "        self.Stack.pop()\n",
    "    def is_empty(self):\n",
    "        return len(self.Stack)==0\n",
    "    def peek(self):\n",
    "        return self.Stack[-1]\n",
    "    def size(self):\n",
    "        return len(self.Stack)"
   ]
  },
  {
   "cell_type": "markdown",
   "id": "bfed0113",
   "metadata": {},
   "source": [
    "# Implement Stack Using list"
   ]
  },
  {
   "cell_type": "code",
   "execution_count": 27,
   "id": "16142c93",
   "metadata": {},
   "outputs": [
    {
     "name": "stdout",
     "output_type": "stream",
     "text": [
      "[1, 5, 8]\n"
     ]
    }
   ],
   "source": [
    "stack=[]\n",
    "stack.append(1)\n",
    "stack.append(5)\n",
    "stack.append(8)\n",
    "print(stack)"
   ]
  },
  {
   "cell_type": "code",
   "execution_count": 28,
   "id": "824b55dc",
   "metadata": {},
   "outputs": [
    {
     "data": {
      "text/plain": [
       "8"
      ]
     },
     "execution_count": 28,
     "metadata": {},
     "output_type": "execute_result"
    }
   ],
   "source": [
    "stack.pop()"
   ]
  },
  {
   "cell_type": "markdown",
   "id": "8d2ae069",
   "metadata": {},
   "source": [
    "# Using Function"
   ]
  },
  {
   "cell_type": "code",
   "execution_count": 29,
   "id": "865eab4c",
   "metadata": {},
   "outputs": [
    {
     "name": "stdout",
     "output_type": "stream",
     "text": [
      "select the operation 1.push 2.pop 3.quit\n",
      "1\n",
      "Enter the element: 5\n",
      "['5']\n",
      "select the operation 1.push 2.pop 3.quit\n",
      "1\n",
      "Enter the element: 8\n",
      "['5', '8']\n",
      "select the operation 1.push 2.pop 3.quit\n",
      "1\n",
      "Enter the element: 9\n",
      "['5', '8', '9']\n",
      "select the operation 1.push 2.pop 3.quit\n",
      "1\n",
      "Enter the element: 12\n",
      "['5', '8', '9', '12']\n",
      "select the operation 1.push 2.pop 3.quit\n",
      "1\n",
      "Enter the element: 19\n",
      "['5', '8', '9', '12', '19']\n",
      "select the operation 1.push 2.pop 3.quit\n",
      "1\n",
      "Enter the element: 13\n",
      "['5', '8', '9', '12', '19', '13']\n",
      "select the operation 1.push 2.pop 3.quit\n",
      "2\n",
      "remove element 13\n",
      "['5', '8', '9', '12', '19']\n",
      "select the operation 1.push 2.pop 3.quit\n",
      "2\n",
      "remove element 19\n",
      "['5', '8', '9', '12']\n",
      "select the operation 1.push 2.pop 3.quit\n",
      "3\n"
     ]
    }
   ],
   "source": [
    "stack=[]\n",
    "def push():\n",
    "    element=input(\"Enter the element: \")\n",
    "    stack.append(element)\n",
    "    print(stack)\n",
    "def pop():\n",
    "    e=stack.pop()\n",
    "    print('remove element',e)\n",
    "    print(stack)\n",
    "while True:\n",
    "    print('select the operation 1.push 2.pop 3.quit')\n",
    "    choice=int(input())\n",
    "    if choice==1:\n",
    "        push()\n",
    "    elif choice==2:\n",
    "        pop()\n",
    "    elif choice==3:\n",
    "        break\n",
    "    else:\n",
    "        print('Enter the correct operation!!')"
   ]
  },
  {
   "cell_type": "code",
   "execution_count": null,
   "id": "32027971",
   "metadata": {},
   "outputs": [],
   "source": []
  }
 ],
 "metadata": {
  "kernelspec": {
   "display_name": "Python 3",
   "language": "python",
   "name": "python3"
  },
  "language_info": {
   "codemirror_mode": {
    "name": "ipython",
    "version": 3
   },
   "file_extension": ".py",
   "mimetype": "text/x-python",
   "name": "python",
   "nbconvert_exporter": "python",
   "pygments_lexer": "ipython3",
   "version": "3.9.4"
  }
 },
 "nbformat": 4,
 "nbformat_minor": 5
}
